{
 "cells": [
  {
   "cell_type": "markdown",
   "metadata": {},
   "source": [
    "Remember to\n",
    "\n",
    "```sh\n",
    "sudo apt install ffmpeg libavcodec-extra\n",
    "```"
   ]
  },
  {
   "cell_type": "code",
   "execution_count": 1,
   "metadata": {},
   "outputs": [
    {
     "name": "stderr",
     "output_type": "stream",
     "text": [
      "/home/lyk/Projects/dinov2/dinov2/layers/swiglu_ffn.py:43: UserWarning: xFormers is available (SwiGLU)\n",
      "  warnings.warn(\"xFormers is available (SwiGLU)\")\n",
      "/home/lyk/Projects/dinov2/dinov2/layers/attention.py:27: UserWarning: xFormers is available (Attention)\n",
      "  warnings.warn(\"xFormers is available (Attention)\")\n",
      "/home/lyk/Projects/dinov2/dinov2/layers/block.py:33: UserWarning: xFormers is available (Block)\n",
      "  warnings.warn(\"xFormers is available (Block)\")\n"
     ]
    },
    {
     "name": "stdout",
     "output_type": "stream",
     "text": [
      "cuda\n"
     ]
    }
   ],
   "source": [
    "import sys\n",
    "import os\n",
    "import torch\n",
    "import numpy as np\n",
    "\n",
    "# Get the absolute path of the project root\n",
    "project_root = os.path.abspath(\"..\")  # Adjust path if your notebook is deeper in directories\n",
    "\n",
    "# Add project root to sys.path\n",
    "sys.path.append(project_root)\n",
    "\n",
    "# Now you can import dinov2\n",
    "import dinov2\n",
    "from dinov2.eval.setup import build_model_for_eval\n",
    "from dinov2.configs import load_and_merge_config\n",
    "from dinov2.utils.visualize import *\n",
    "\n",
    "device = \"cuda\"\n",
    "device = torch.device(device if torch.cuda.is_available() else \"cpu\")\n",
    "print(device)"
   ]
  },
  {
   "cell_type": "markdown",
   "metadata": {},
   "source": []
  },
  {
   "cell_type": "code",
   "execution_count": 2,
   "metadata": {},
   "outputs": [],
   "source": [
    "\n",
    "# Main pipeline execution\n",
    "def main(video_path, model, threshold=0.6, device='cuda'):\n",
    "    raw_tensor, input_tensor = load_preprocess_video(video_path, target_size=448)# 448 is multiples of patch_size (14)\n",
    "    print_video_model_stats(input_tensor, model)\n",
    "    \n",
    "    patch_embeddings = get_patch_embeddings(model, input_tensor)\n",
    "    reduced_fg_patch_embeddings, nums_of_fg_patches, masks, reduced_patch_embeddings = two_stage_pca(patch_embeddings, threshold=threshold)\n",
    "    \n",
    "    save_triple_video(raw_tensor, reduced_fg_patch_embeddings, nums_of_fg_patches, masks, reduced_patch_embeddings, patch_embeddings.shape[1], model.patch_size, output_path='/home/lyk/Projects/dinov2/notebooks/data/outputs/triple_output.mp4')\n"
   ]
  },
  {
   "cell_type": "code",
   "execution_count": 3,
   "metadata": {},
   "outputs": [
    {
     "name": "stdout",
     "output_type": "stream",
     "text": [
      "Preprocessed video tensor shape: torch.Size([7, 3, 448, 448])\n",
      "Input tensor shape: Batch=7, Channels=3, Height=448, Width=448\n",
      "Patch size: 14\n",
      "Embedding dimension: 768\n",
      "Number of patches of each image: 1024\n",
      "Num of foreground patches of image 0: 581\n",
      "Num of foreground patches of image 1: 583\n",
      "Num of foreground patches of image 2: 582\n",
      "Num of foreground patches of image 3: 581\n",
      "Num of foreground patches of image 4: 579\n",
      "Num of foreground patches of image 5: 578\n",
      "Num of foreground patches of image 6: 579\n",
      "Total num of foreground patches: 4063\n",
      "Explained variance ratio by PCA components: [0.1660797  0.10861541 0.09618893]\n",
      "Triple video saved to /home/lyk/Projects/dinov2/notebooks/data/outputs/triple_output.mp4\n"
     ]
    }
   ],
   "source": [
    "# Use model as large as as possible\n",
    "# The video len should be longer\n",
    "\n",
    "video_path = \"/home/lyk/Projects/dinov2/notebooks/data/videos/01_dog.mp4\"\n",
    "# video_path = \"/home/lyk/Projects/dinov2/notebooks/data/videos/crane_video.mp4\"\n",
    "\n",
    "threshold=0.6\n",
    "\n",
    "# Use `dinov2_vitb14_pretrain`\n",
    "conf = load_and_merge_config('eval/vitb14_pretrain')\n",
    "model = build_model_for_eval(conf, '../dinov2/checkpoints/dinov2_vitb14_pretrain.pth')\n",
    "\n",
    "main(video_path, model, threshold, device)"
   ]
  }
 ],
 "metadata": {
  "kernelspec": {
   "display_name": "dinov2",
   "language": "python",
   "name": "python3"
  },
  "language_info": {
   "codemirror_mode": {
    "name": "ipython",
    "version": 3
   },
   "file_extension": ".py",
   "mimetype": "text/x-python",
   "name": "python",
   "nbconvert_exporter": "python",
   "pygments_lexer": "ipython3",
   "version": "3.9.21"
  }
 },
 "nbformat": 4,
 "nbformat_minor": 2
}
