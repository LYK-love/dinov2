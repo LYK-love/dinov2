{
 "cells": [
  {
   "cell_type": "markdown",
   "metadata": {},
   "source": [
    "# Visualize the last attention layer of DINOv2\n",
    "This is the same visualization method used in DINOv1. I modified the ViT a bit to support the api used in DINOv1, this is inspired by [Tobias Ziegler](https://gitlab.com/ziegleto-machine-learning/dino).\n",
    "\n",
    "Meanwhile, to removes the artifacts, please use model equipped with registers, see this [paper](https://arxiv.org/abs/2309.16588). The artifacts are not observed in DINOv1, whereas it leads to huge impact to DINOv2.\n",
    "\n",
    "\n",
    "The results are still slightly worse compared to DINOv1."
   ]
  },
  {
   "cell_type": "markdown",
   "metadata": {},
   "source": []
  },
  {
   "cell_type": "code",
   "execution_count": 1,
   "metadata": {},
   "outputs": [
    {
     "name": "stdout",
     "output_type": "stream",
     "text": [
      "Enable xformers: True\n"
     ]
    },
    {
     "name": "stderr",
     "output_type": "stream",
     "text": [
      "/scorpio/home/luyukuan/projects/dinov2/dinov2/layers/swiglu_ffn.py:43: UserWarning: xFormers is available (SwiGLU)\n",
      "  warnings.warn(\"xFormers is available (SwiGLU)\")\n",
      "/scorpio/home/luyukuan/projects/dinov2/dinov2/layers/attention.py:27: UserWarning: xFormers is available (Attention)\n",
      "  warnings.warn(\"xFormers is available (Attention)\")\n",
      "/scorpio/home/luyukuan/projects/dinov2/dinov2/layers/block.py:33: UserWarning: xFormers is available (Block)\n",
      "  warnings.warn(\"xFormers is available (Block)\")\n"
     ]
    },
    {
     "name": "stdout",
     "output_type": "stream",
     "text": [
      "cuda\n"
     ]
    }
   ],
   "source": [
    "import sys\n",
    "import os\n",
    "import torch\n",
    "import numpy as np\n",
    "from tqdm import tqdm\n",
    "\n",
    "# Get the absolute path of the project root\n",
    "project_root = os.path.abspath(\"..\")  # Adjust path if your notebook is deeper in directories\n",
    "\n",
    "# Add project root to sys.path\n",
    "sys.path.append(project_root)\n",
    "\n",
    "# If xformers is enabled, then we can save compt. cost when generating embeds.\n",
    "# However, the optimized self-attention operation in xformers won't be used if we wanna generate attention weights. In this case, xformers is not used.\n",
    "if 'XFORMERS_DISABLED' in os.environ:\n",
    "    del os.environ['XFORMERS_DISABLED']\n",
    "XFORMERS_ENABLED = os.environ.get(\"XFORMERS_DISABLED\") is None\n",
    "\n",
    "print(f\"Enable xformers: {XFORMERS_ENABLED}\")\n",
    "\n",
    "# Now you can import dinov2\n",
    "import dinov2\n",
    "from dinov2.eval.setup import build_model_for_eval\n",
    "from dinov2.configs import load_and_merge_config\n",
    "from dinov2.utils.visualize import load_and_preprocess_video, print_video_model_stats, get_last_self_attn, get_attention_map, colorize_attention_map, save_np_array_as_video\n",
    "\n",
    "device = \"cuda\"\n",
    "device = torch.device(device if torch.cuda.is_available() else \"cpu\")\n",
    "print(device)\n",
    "\n",
    "\n",
    "# For pong, 97\n",
    "# For quadruped, 95\n",
    "PERCENTILE = 97\n",
    "TARGET_SIZE = 64*14 # For a 64*64 video, we resize it to 896*896, and since the dinov2 patch size is 14, we will get a 64*64 attention map."
   ]
  },
  {
   "cell_type": "code",
   "execution_count": 2,
   "metadata": {},
   "outputs": [],
   "source": [
    "def main(video_path, model, output_path, device='cuda', masked_output_path = \"\", thresholded_output_path=\"\"):\n",
    "    video_prenorm, video_normalized, fps = load_and_preprocess_video(video_path, target_size=TARGET_SIZE, patch_size = model.patch_size)# 448 is multiples of patch_size (14)\n",
    "    video_normalized = video_normalized[:32]\n",
    "    T, C, H, W, patch_size, embedding_dim, patch_num = print_video_model_stats(video_normalized, model)\n",
    "    H_p, W_p = int(H/patch_size), int(W/patch_size)\n",
    "    \n",
    "    # last_self_attention = get_last_self_attn(model, video_normalized)\n",
    "    last_self_attention = model.get_last_selfattention(video_normalized).detach().cpu().numpy()\n",
    "    # from dinov2.utils.visualize import get_cls_token_embeddings\n",
    "    # cls_token_embed = get_cls_token_embeddings(model, video_normalized)\n",
    "    # normalized_attention_map = get_attention_map(\n",
    "    #     last_self_attention, height_in_patches = H_p, width_in_patches = W_p, num_register_tokens = model.num_register_tokens\n",
    "    # )# (T, H_p, W_p)\n",
    "    \n",
    "    \n",
    "    # # Resize the attention map for the single frame\n",
    "    # colorized_attn_map = colorize_attention_map(normalized_attention_map, patch_size=patch_size)\n",
    "    # save_np_array_as_video(colorized_attn_map, output_path=output_path, fps=fps)\n",
    "        \n",
    "    # if thresholded_output_path:\n",
    "    #     from dinov2.utils.visualize import find_percentile_threshold, generate_attention_mask\n",
    "    #     threshold = find_percentile_threshold(normalized_attention_map, percentile=PERCENTILE)\n",
    "    #     attention_mask = generate_attention_mask(normalized_attention_map, threshold=threshold)\n",
    "    #     masked_attn_map = normalized_attention_map * attention_mask\n",
    "    \n",
    "    #     colorized_thresholded_attn_map = colorize_attention_map(masked_attn_map, patch_size=patch_size)\n",
    "    #     save_np_array_as_video(colorized_thresholded_attn_map, output_path=thresholded_output_path, fps=fps)\n",
    "        \n",
    "    #     # Calculate statistics about filtered weights\n",
    "    #     total_elements = attention_mask.size\n",
    "    #     filtered_elements = total_elements - np.sum(attention_mask)\n",
    "    #     filtered_percentage = (filtered_elements / total_elements) * 100\n",
    "    \n",
    "    #     # Print statistics\n",
    "    #     print(f\"Threshold value: {threshold:.4f}\")\n",
    "    #     print(f\"Filtered out {filtered_elements:,} of {total_elements:,} attention weights\")\n",
    "    #     print(f\"Filtered out {filtered_percentage:.2f}% of attention weights\")\n",
    "        \n",
    "    #     if masked_output_path:\n",
    "    #         import cv2\n",
    "    #         from dinov2.utils.visualize import min_max_normalize\n",
    "        \n",
    "        \n",
    "    #         # Option 1: Simple nearest-neighbor expansion of each patch (blocky result)\n",
    "    #         upsampled_attn_mask = np.zeros((T, H, W), dtype=np.uint8)\n",
    "    #         for t in range(T):\n",
    "    #             for h in range(H_p):\n",
    "    #                 for w in range(W_p):\n",
    "    #                     h_start, h_end = h * patch_size, (h + 1) * patch_size\n",
    "    #                     w_start, w_end = w * patch_size, (w + 1) * patch_size\n",
    "    #                     upsampled_attn_mask[t, h_start:h_end, w_start:w_end] = attention_mask[t, h, w]\n",
    "    #         # Expand attention mask map to match video dimensions\n",
    "    #         expanded_attn_mask = np.expand_dims(upsampled_attn_mask, axis=-1)  # Shape: (T, H, W, 1)\n",
    "    #         expanded_attn_mask = np.repeat(expanded_attn_mask, C, axis=-1)     # Shape: (T, H, W, C)\n",
    "        \n",
    "    #         # Multiply original video with attention map mask\n",
    "    #         masked_video = video_prenorm.permute(0, 2, 3, 1).detach().cpu().numpy() * expanded_attn_mask\n",
    "    #         masked_video = min_max_normalize(masked_video)\n",
    "    #         save_np_array_as_video(masked_video, output_path=masked_output_path, fps=fps)\n",
    "    \n"
   ]
  },
  {
   "cell_type": "code",
   "execution_count": 3,
   "metadata": {},
   "outputs": [
    {
     "name": "stdout",
     "output_type": "stream",
     "text": [
      "Video FPS: 20.00, Total Frames: 102, Duration: 5.10 seconds\n",
      "Input tensor shape: Batch=32, Channels=3, Height=896, Width=896\n",
      "Patch size: 14\n",
      "Embedding dimension: 384\n",
      "Number of patches of each image: 4096\n"
     ]
    }
   ],
   "source": [
    "model_size = \"s\"\n",
    "base_dir = \"./data\"\n",
    "# exp_name = \"natural\"\n",
    "# video_name = \"dog_first5sec\"\n",
    "# video_name = \"dog_cat_first5sec\"\n",
    "\n",
    "exp_name = \"pong\"\n",
    "video_name = \"pong\"\n",
    "\n",
    "video_path = f\"{base_dir}/{exp_name}/videos/{video_name}.avi\"\n",
    "output_path = f\"{base_dir}/{exp_name}/outputs/{video_name}_attn_{model_size}.mp4\"\n",
    "masked_output_path = f\"{base_dir}/{exp_name}/outputs/{video_name}_top_{100-PERCENTILE}_percent_attn_masked_{model_size}.mp4\"\n",
    "thresholded_output_path = f\"{base_dir}/{exp_name}/outputs/{video_name}_top_{100-PERCENTILE}_percent_attn_{model_size}.mp4\"\n",
    "\n",
    "\n",
    "# Use `dinov2_vitb14_pretrain`\n",
    "conf = load_and_merge_config(f'eval/vit{model_size}14_reg4_pretrain')\n",
    "model = build_model_for_eval(conf, f'../dinov2/checkpoints/dinov2_vit{model_size}14_reg4_pretrain.pth')\n",
    "\n",
    "main(video_path, model, output_path, device, masked_output_path = masked_output_path, thresholded_output_path=thresholded_output_path)\n"
   ]
  },
  {
   "cell_type": "markdown",
   "metadata": {},
   "source": [
    "# VRAM Cost Analysis - DINOv2 Model\n",
    "\n",
    "Total VRAM usage including all DINOv2 model parameters, activations, and input tensors.\n",
    "All data has type float32.\n",
    "\n",
    "## Without xFormers Memory Optimization\n",
    "\n",
    "**Standard attention implementation** (no memory-efficient attention):\n",
    "\n",
    "### Generate Attention Weights\n",
    "| Input Shape | VRAM Usage |\n",
    "|-------------|------------|\n",
    "| (100, 896, 896, 3) | 37.59 GiB |\n",
    "| (75, 896, 896, 3) | 28.20 GiB |\n",
    "| (50, 896, 896, 3) | 18.80 GiB |\n",
    "\n",
    "### Generate CLS Token Embeddings\n",
    "| Input Shape | VRAM Usage |\n",
    "|-------------|------------|\n",
    "| (100, 896, 896, 3) | 37.59 GiB |\n",
    "| (75, 896, 896, 3) | 28.20 GiB |\n",
    "| (50, 896, 896, 3) | 18.80 GiB |\n",
    "\n",
    "## With xFormers Memory Optimization\n",
    "\n",
    "**Using [xFormers](https://github.com/facebookresearch/xformers) `memory_efficient_attention()` API:**\n",
    "\n",
    "### Generate Attention Weights\n",
    "| Input Shape | VRAM Usage |\n",
    "|-------------|------------|\n",
    "| (100, 896, 896, 3) | 37.59 GiB |\n",
    "| (75, 896, 896, 3) | 28.20 GiB |\n",
    "| (50, 896, 896, 3) | 18.80 GiB |\n",
    "\n",
    "### Generate CLS Token Embeddings\n",
    "| Input Shape | VRAM Usage |\n",
    "|-------------|------------|\n",
    "| (100, 896, 896, 3) | 19.00 GiB |\n",
    "| (75, 896, 896, 3) | 15.00 GiB |\n",
    "| (50, 896, 896, 3) | 7.00 GiB |\n",
    "\n"
   ]
  },
  {
   "cell_type": "code",
   "execution_count": null,
   "metadata": {},
   "outputs": [],
   "source": []
  },
  {
   "cell_type": "code",
   "execution_count": null,
   "metadata": {},
   "outputs": [],
   "source": []
  },
  {
   "cell_type": "markdown",
   "metadata": {},
   "source": [
    "Comparison of visualized attn map of original video and masked video shows that DINO representation space preserve even very subtle signal, i.e., the ball/paddles is almost totally masked in the masked video, but the attn map still contains it."
   ]
  }
 ],
 "metadata": {
  "kernelspec": {
   "display_name": "dinov2",
   "language": "python",
   "name": "python3"
  },
  "language_info": {
   "codemirror_mode": {
    "name": "ipython",
    "version": 3
   },
   "file_extension": ".py",
   "mimetype": "text/x-python",
   "name": "python",
   "nbconvert_exporter": "python",
   "pygments_lexer": "ipython3",
   "version": "3.9.21"
  }
 },
 "nbformat": 4,
 "nbformat_minor": 2
}
