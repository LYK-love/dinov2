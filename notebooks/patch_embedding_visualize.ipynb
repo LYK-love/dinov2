{
 "cells": [
  {
   "cell_type": "markdown",
   "metadata": {},
   "source": [
    "Remember to\n",
    "\n",
    "```sh\n",
    "sudo apt install ffmpeg libavcodec-extra\n",
    "```"
   ]
  },
  {
   "cell_type": "code",
   "execution_count": null,
   "metadata": {},
   "outputs": [],
   "source": [
    "# Download model checkpoints:\n",
    "import torch\n",
    "\n",
    "dinov2_vits14_reg_lc = torch.hub.load('facebookresearch/dinov2', 'dinov2_vits14_reg_lc')"
   ]
  },
  {
   "cell_type": "code",
   "execution_count": null,
   "metadata": {},
   "outputs": [],
   "source": [
    "import sys\n",
    "import os\n",
    "import torch\n",
    "import numpy as np\n",
    "from tqdm import tqdm\n",
    "\n",
    "if 'dinov2' in sys.modules:\n",
    "    del sys.modules['dinov2']\n",
    "    \n",
    "# Get the absolute path of the project root\n",
    "project_root = os.path.abspath(\"..\")  # Adjust path if your notebook is deeper in directories\n",
    "\n",
    "# Add project root to sys.path\n",
    "sys.path.insert(0, project_root)\n",
    "\n",
    "# sys.path.append(project_root)\n",
    "\n",
    "    \n",
    "# Now you can import dinov2\n",
    "import dinov2\n",
    "print(\"Currently using dinov2 from:\", dinov2.__file__)\n",
    "\n",
    "\n",
    "\n",
    "from dinov2.eval.setup import build_model_for_eval\n",
    "from dinov2.configs import load_and_merge_config\n",
    "from dinov2.utils.visualize import *\n",
    "\n",
    "device = \"cuda\"\n",
    "device = torch.device(device if torch.cuda.is_available() else \"cpu\")\n",
    "print(device)"
   ]
  },
  {
   "cell_type": "markdown",
   "metadata": {},
   "source": []
  },
  {
   "cell_type": "code",
   "execution_count": null,
   "metadata": {},
   "outputs": [],
   "source": [
    "def main(video_path, model, output_path, threshold=0.6, device='cuda'):\n",
    "    raw_tensor, input_tensor, fps = load_preprocess_video(video_path, target_size=448*1, patch_size=model.patch_size)  # 448 is multiple of patch_size (14)\n",
    "    B, C, H, W, patch_size, embedding_dim, patch_num = print_video_model_stats(input_tensor, model)\n",
    "    \n",
    "    patch_embed_list = []\n",
    "    with torch.no_grad():\n",
    "        for i in tqdm(range(B), desc=\"Processing Frames\", unit=\"frame\"):\n",
    "            frame = input_tensor[i].unsqueeze(0) # (1, C, H, W)\n",
    "            patch_embed = get_patch_embeddings(model, frame)\n",
    "            patch_embed_list.append(patch_embed)\n",
    "            \n",
    "    patch_embeds = np.vstack(patch_embed_list)  # (B, num_patches, embedding_dim)\n",
    "\n",
    "    # Show progress for PCA processing\n",
    "    print(\"Performing Two-Stage PCA...\")\n",
    "    reduced_embeds, reduced_fg_embeds, nums_of_fg_patches, masks = two_stage_pca(patch_embeds, threshold=threshold)\n",
    "\n",
    "    # Saving video with progress\n",
    "    print(\"Saving output video...\")\n",
    "    save_triple_video(raw_tensor, reduced_embeds, reduced_fg_embeds, nums_of_fg_patches, masks, patch_num, patch_size, output_path=output_path, fps=fps)\n",
    "\n",
    "    print(\"Processing completed! ✅\")\n",
    "    \n"
   ]
  },
  {
   "cell_type": "markdown",
   "metadata": {},
   "source": [
    "For crane, use b and 0.7.\n",
    "For dog, use b and 0.7.\n",
    "For pong, use b and 0."
   ]
  },
  {
   "cell_type": "code",
   "execution_count": null,
   "metadata": {},
   "outputs": [],
   "source": [
    "threshold=0.8\n",
    "model_size = \"b\"\n",
    "\n",
    "video_path = \"./data/pong/pong.mp4.mp4\"\n",
    "output_path = f\"./data/embed_pong_{model_size}_{threshold}.mp4\"\n",
    "\n",
    "\n",
    "# Use `dinov2_vitb14_pretrain`\n",
    "conf = load_and_merge_config(f'eval/vit{model_size}14_pretrain')\n",
    "model = build_model_for_eval(conf, f'../dinov2/checkpoints/dinov2_vit{model_size}14_reg4_pretrain.pth')\n",
    "\n",
    "main(video_path, model, output_path, threshold, device)"
   ]
  }
 ],
 "metadata": {
  "kernelspec": {
   "display_name": "dinov2",
   "language": "python",
   "name": "python3"
  },
  "language_info": {
   "codemirror_mode": {
    "name": "ipython",
    "version": 3
   },
   "file_extension": ".py",
   "mimetype": "text/x-python",
   "name": "python",
   "nbconvert_exporter": "python",
   "pygments_lexer": "ipython3",
   "version": "3.9.21"
  }
 },
 "nbformat": 4,
 "nbformat_minor": 2
}
