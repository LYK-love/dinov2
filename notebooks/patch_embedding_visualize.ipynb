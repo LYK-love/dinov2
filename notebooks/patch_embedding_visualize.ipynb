{
 "cells": [
  {
   "cell_type": "markdown",
   "metadata": {},
   "source": [
    "Remember to\n",
    "\n",
    "```sh\n",
    "sudo apt install ffmpeg libavcodec-extra\n",
    "```"
   ]
  },
  {
   "cell_type": "code",
   "execution_count": 1,
   "metadata": {},
   "outputs": [
    {
     "name": "stderr",
     "output_type": "stream",
     "text": [
      "/home/lyk/Projects/dinov2/dinov2/layers/swiglu_ffn.py:43: UserWarning: xFormers is available (SwiGLU)\n",
      "  warnings.warn(\"xFormers is available (SwiGLU)\")\n",
      "/home/lyk/Projects/dinov2/dinov2/layers/attention.py:27: UserWarning: xFormers is available (Attention)\n",
      "  warnings.warn(\"xFormers is available (Attention)\")\n",
      "/home/lyk/Projects/dinov2/dinov2/layers/block.py:33: UserWarning: xFormers is available (Block)\n",
      "  warnings.warn(\"xFormers is available (Block)\")\n"
     ]
    },
    {
     "name": "stdout",
     "output_type": "stream",
     "text": [
      "cuda\n"
     ]
    }
   ],
   "source": [
    "import sys\n",
    "import os\n",
    "import torch\n",
    "import numpy as np\n",
    "from tqdm import tqdm\n",
    "\n",
    "# Get the absolute path of the project root\n",
    "project_root = os.path.abspath(\"..\")  # Adjust path if your notebook is deeper in directories\n",
    "\n",
    "# Add project root to sys.path\n",
    "sys.path.append(project_root)\n",
    "\n",
    "# Now you can import dinov2\n",
    "import dinov2\n",
    "from dinov2.eval.setup import build_model_for_eval\n",
    "from dinov2.configs import load_and_merge_config\n",
    "from dinov2.utils.visualize import *\n",
    "\n",
    "device = \"cuda\"\n",
    "device = torch.device(device if torch.cuda.is_available() else \"cpu\")\n",
    "print(device)"
   ]
  },
  {
   "cell_type": "markdown",
   "metadata": {},
   "source": []
  },
  {
   "cell_type": "code",
   "execution_count": 2,
   "metadata": {},
   "outputs": [],
   "source": [
    "def main(video_path, model, output_path, threshold=0.6, device='cuda'):\n",
    "    raw_tensor, input_tensor, fps = load_preprocess_video(video_path, target_size=448*1, patch_size=model.patch_size)  # 448 is multiple of patch_size (14)\n",
    "    B, C, H, W, patch_size, embedding_dim, patch_num = print_video_model_stats(input_tensor, model)\n",
    "    \n",
    "    patch_embed_list = []\n",
    "    with torch.no_grad():\n",
    "        for i in tqdm(range(B), desc=\"Processing Frames\", unit=\"frame\"):\n",
    "            frame = input_tensor[i].unsqueeze(0)\n",
    "            patch_embed = get_patch_embeddings(model, frame)\n",
    "            patch_embed_list.append(patch_embed)\n",
    "            \n",
    "    patch_embeds = np.vstack(patch_embed_list)  # (B, num_patches, embedding_dim)\n",
    "\n",
    "    # Show progress for PCA processing\n",
    "    print(\"Performing Two-Stage PCA...\")\n",
    "    reduced_embeds, reduced_fg_embeds, nums_of_fg_patches, masks = two_stage_pca(patch_embeds, threshold=threshold)\n",
    "\n",
    "    # Saving video with progress\n",
    "    print(\"Saving output video...\")\n",
    "    save_triple_video(raw_tensor, reduced_embeds, reduced_fg_embeds, nums_of_fg_patches, masks, patch_num, patch_size, output_path=output_path, fps=fps)\n",
    "\n",
    "    print(\"Processing completed! ✅\")\n",
    "    \n"
   ]
  },
  {
   "cell_type": "markdown",
   "metadata": {},
   "source": [
    "For crane, use b and 0.7.\n",
    "For dog, use b and 0.7.\n",
    "No registers."
   ]
  },
  {
   "cell_type": "code",
   "execution_count": null,
   "metadata": {},
   "outputs": [
    {
     "name": "stdout",
     "output_type": "stream",
     "text": [
      "Video FPS: 1.00, Total Frames: 4, Duration: 4.00 seconds\n",
      "Input tensor shape: Batch=4, Channels=3, Height=448, Width=448\n",
      "Patch size: 14\n",
      "Embedding dimension: 768\n",
      "Number of patches of each image: 1024\n"
     ]
    },
    {
     "name": "stderr",
     "output_type": "stream",
     "text": [
      "Processing Frames: 100%|██████████| 4/4 [00:00<00:00, 37.10frame/s]"
     ]
    },
    {
     "name": "stdout",
     "output_type": "stream",
     "text": [
      "Performing Two-Stage PCA...\n"
     ]
    },
    {
     "name": "stderr",
     "output_type": "stream",
     "text": [
      "\n"
     ]
    },
    {
     "name": "stdout",
     "output_type": "stream",
     "text": [
      "Num of foreground patches of image 0: 283\n",
      "Num of foreground patches of image 1: 293\n",
      "Num of foreground patches of image 2: 337\n",
      "Num of foreground patches of image 3: 670\n",
      "Total num of foreground patches: 1583\n",
      "Explained variance ratio by PCA components: [0.11140188 0.09799817 0.06075843]\n",
      "Saving output video...\n",
      "Video saved to ./data/outputs/embed_crane_b_0.6.mp4\n",
      "Processing completed! ✅\n"
     ]
    }
   ],
   "source": [
    "threshold=0.7\n",
    "model_size = \"b\"\n",
    "\n",
    "video_path = \"./data/videos/dinov2_dog.mp4\"\n",
    "output_path = f\"./data/outputs/embed_dog_{model_size}_{threshold}.mp4\"\n",
    "\n",
    "\n",
    "# Use `dinov2_vitb14_pretrain`\n",
    "conf = load_and_merge_config(f'eval/vit{model_size}14_pretrain')\n",
    "model = build_model_for_eval(conf, f'../dinov2/checkpoints/dinov2_vit{model_size}14_pretrain.pth')\n",
    "\n",
    "main(video_path, model, output_path, threshold, device)"
   ]
  }
 ],
 "metadata": {
  "kernelspec": {
   "display_name": "dinov2",
   "language": "python",
   "name": "python3"
  },
  "language_info": {
   "codemirror_mode": {
    "name": "ipython",
    "version": 3
   },
   "file_extension": ".py",
   "mimetype": "text/x-python",
   "name": "python",
   "nbconvert_exporter": "python",
   "pygments_lexer": "ipython3",
   "version": "3.9.21"
  }
 },
 "nbformat": 4,
 "nbformat_minor": 2
}
